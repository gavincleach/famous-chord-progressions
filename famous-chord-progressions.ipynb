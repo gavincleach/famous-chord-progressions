{
 "cells": [
  {
   "cell_type": "code",
   "execution_count": 1,
   "metadata": {},
   "outputs": [
    {
     "data": {
      "text/plain": [
       "890"
      ]
     },
     "execution_count": 1,
     "metadata": {},
     "output_type": "execute_result"
    }
   ],
   "source": [
    "import pandas as pd\n",
    "import tarfile\n",
    "import csv\n",
    "\n",
    "tar = tarfile.open(\"/Users/gavincleach/Desktop/famous-chord-progressions-raw-data/billboard-2.0-salami_chords.tar.gz\", \"r:gz\")\n",
    "famous_chord_progressions = []\n",
    "for member in tar.getmembers():\n",
    "    f = tar.extractfile(member)\n",
    "    famous_chord_progressions.append(f.read())\n",
    "\n",
    "billboard_charts = pd.read_csv('/Users/gavincleach/Desktop/famous-chord-progressions-raw-data/billboard-2.0-index.csv')\n",
    "        \n",
    "len(famous_chord_progressions)"
   ]
  },
  {
   "cell_type": "code",
   "execution_count": 2,
   "metadata": {},
   "outputs": [
    {
     "data": {
      "text/html": [
       "<div>\n",
       "<style scoped>\n",
       "    .dataframe tbody tr th:only-of-type {\n",
       "        vertical-align: middle;\n",
       "    }\n",
       "\n",
       "    .dataframe tbody tr th {\n",
       "        vertical-align: top;\n",
       "    }\n",
       "\n",
       "    .dataframe thead th {\n",
       "        text-align: right;\n",
       "    }\n",
       "</style>\n",
       "<table border=\"1\" class=\"dataframe\">\n",
       "  <thead>\n",
       "    <tr style=\"text-align: right;\">\n",
       "      <th></th>\n",
       "      <th>chart_date</th>\n",
       "      <th>target_rank</th>\n",
       "      <th>actual_rank</th>\n",
       "      <th>title</th>\n",
       "      <th>artist</th>\n",
       "      <th>peak_rank</th>\n",
       "      <th>weeks_on_chart</th>\n",
       "    </tr>\n",
       "    <tr>\n",
       "      <th>id</th>\n",
       "      <th></th>\n",
       "      <th></th>\n",
       "      <th></th>\n",
       "      <th></th>\n",
       "      <th></th>\n",
       "      <th></th>\n",
       "      <th></th>\n",
       "    </tr>\n",
       "  </thead>\n",
       "  <tbody>\n",
       "    <tr>\n",
       "      <td>1</td>\n",
       "      <td>1987-07-11</td>\n",
       "      <td>82</td>\n",
       "      <td>NaN</td>\n",
       "      <td>NaN</td>\n",
       "      <td>NaN</td>\n",
       "      <td>NaN</td>\n",
       "      <td>NaN</td>\n",
       "    </tr>\n",
       "    <tr>\n",
       "      <td>2</td>\n",
       "      <td>1973-08-04</td>\n",
       "      <td>14</td>\n",
       "      <td>NaN</td>\n",
       "      <td>NaN</td>\n",
       "      <td>NaN</td>\n",
       "      <td>NaN</td>\n",
       "      <td>NaN</td>\n",
       "    </tr>\n",
       "    <tr>\n",
       "      <td>3</td>\n",
       "      <td>1961-07-03</td>\n",
       "      <td>56</td>\n",
       "      <td>57.0</td>\n",
       "      <td>I Don't Mind</td>\n",
       "      <td>James Brown</td>\n",
       "      <td>47.0</td>\n",
       "      <td>8.0</td>\n",
       "    </tr>\n",
       "    <tr>\n",
       "      <td>4</td>\n",
       "      <td>1971-08-07</td>\n",
       "      <td>32</td>\n",
       "      <td>31.0</td>\n",
       "      <td>You've Got A Friend</td>\n",
       "      <td>Roberta Flack,Donny Hathaway</td>\n",
       "      <td>29.0</td>\n",
       "      <td>12.0</td>\n",
       "    </tr>\n",
       "    <tr>\n",
       "      <td>5</td>\n",
       "      <td>1976-07-10</td>\n",
       "      <td>51</td>\n",
       "      <td>NaN</td>\n",
       "      <td>NaN</td>\n",
       "      <td>NaN</td>\n",
       "      <td>NaN</td>\n",
       "      <td>NaN</td>\n",
       "    </tr>\n",
       "  </tbody>\n",
       "</table>\n",
       "</div>"
      ],
      "text/plain": [
       "    chart_date  target_rank  actual_rank                title  \\\n",
       "id                                                              \n",
       "1   1987-07-11           82          NaN                  NaN   \n",
       "2   1973-08-04           14          NaN                  NaN   \n",
       "3   1961-07-03           56         57.0         I Don't Mind   \n",
       "4   1971-08-07           32         31.0  You've Got A Friend   \n",
       "5   1976-07-10           51          NaN                  NaN   \n",
       "\n",
       "                          artist  peak_rank  weeks_on_chart  \n",
       "id                                                           \n",
       "1                            NaN        NaN             NaN  \n",
       "2                            NaN        NaN             NaN  \n",
       "3                    James Brown       47.0             8.0  \n",
       "4   Roberta Flack,Donny Hathaway       29.0            12.0  \n",
       "5                            NaN        NaN             NaN  "
      ]
     },
     "execution_count": 2,
     "metadata": {},
     "output_type": "execute_result"
    }
   ],
   "source": [
    "billboard_charts.set_index(\"id\", inplace = True)\n",
    "\n",
    "billboard_charts.head()"
   ]
  },
  {
   "cell_type": "markdown",
   "metadata": {},
   "source": [
    "let's first get rid of the rows in `billboard_charts` that have `NaN` value in the `title` column. There are 890 songs with full chord progressions, so we will see how many entries we have in `billboard_charts` after we drop those rows."
   ]
  },
  {
   "cell_type": "code",
   "execution_count": 3,
   "metadata": {},
   "outputs": [
    {
     "data": {
      "text/plain": [
       "(890, 7)"
      ]
     },
     "execution_count": 3,
     "metadata": {},
     "output_type": "execute_result"
    }
   ],
   "source": [
    "unwanted_portion = billboard_charts.loc[billboard_charts['title'].isnull()]\n",
    "ids_to_drop = list(unwanted_portion.index) \n",
    "\n",
    "billboard_charts = billboard_charts.drop(labels = ids_to_drop, axis = 0)\n",
    "\n",
    "billboard_charts.shape"
   ]
  },
  {
   "cell_type": "markdown",
   "metadata": {},
   "source": [
    "Great! So now we only have the remaining song entries that don't have `NaN` entries.\n",
    "\n",
    "Before we clean up `billboard_charts`, we should clean up the `famous_chord_progressions` list, because there is much more work to do on that.\n",
    "\n",
    "It would be beneficial to understand what each item in the list `famous_chord_progressions` means. So...\n",
    "\n",
    "(ignore \\'s)\n",
    "\n",
    "\\# title: \\\n",
    "after this comes the title of the song. \n",
    "\n",
    "\\# artist: \\\n",
    "after this comes the artist name.\n",
    "\n",
    "\\# metre: \\\n",
    "after this comes the time signature.\n",
    "\n",
    "\\# tonic: \\\n",
    "after this comes the key the song starts in. \n",
    "\n",
    "for tonic and metre there my not be a definite answer for each of these, in that case, there will be a '?' in place. Tonic and metre might change throughout the song as well."
   ]
  },
  {
   "cell_type": "code",
   "execution_count": 17,
   "metadata": {},
   "outputs": [
    {
     "name": "stdout",
     "output_type": "stream",
     "text": [
      "[\"I Don't mind\"]\n"
     ]
    }
   ],
   "source": [
    "import re\n",
    "\n",
    "james_brown_i_dont_mind = famous_chord_progressions[0]\n",
    "part_of_james_brown_i_dont_mind = \"# title: I Don't mind\\n# artist: Jam\"\n",
    "\n",
    "test_str_0 = 'my favorite numbers are 16 and 2\\n'\n",
    "#test_str_1 = \n",
    "\n",
    "\n",
    "title_pattern = \"# title: (.+)\\n\"\n",
    "\n",
    "#artist_pattern = \n",
    "\n",
    "#metre_pattern = \n",
    "\n",
    "#tonic_pattern = \n",
    "\n",
    "result = re.findall(title_pattern, part_of_james_brown_i_dont_mind)\n",
    "\n",
    "print(result)"
   ]
  },
  {
   "cell_type": "code",
   "execution_count": null,
   "metadata": {},
   "outputs": [],
   "source": []
  }
 ],
 "metadata": {
  "kernelspec": {
   "display_name": "Python 3",
   "language": "python",
   "name": "python3"
  },
  "language_info": {
   "codemirror_mode": {
    "name": "ipython",
    "version": 3
   },
   "file_extension": ".py",
   "mimetype": "text/x-python",
   "name": "python",
   "nbconvert_exporter": "python",
   "pygments_lexer": "ipython3",
   "version": "3.7.4"
  }
 },
 "nbformat": 4,
 "nbformat_minor": 2
}
